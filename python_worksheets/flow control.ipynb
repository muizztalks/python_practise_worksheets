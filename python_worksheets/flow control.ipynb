{
 "cells": [
  {
   "cell_type": "markdown",
   "metadata": {},
   "source": [
    "# Module 2: Control Flow Assignments\n",
    "## Lesson 2.1: Conditional Statements\n",
    "### Assignment 1: Simple if Statement\n",
    "\n",
    "Write a program that asks the user to input a number and prints whether the number is positive.\n",
    "\n",
    "### Assignment 2: if-else Statement\n",
    "\n",
    "Write a program that asks the user to input a number and prints whether the number is positive or negative.\n",
    "\n",
    "### Assignment 3: if-elif-else Statement\n",
    "\n",
    "Write a program that asks the user to input a number and prints whether the number is positive, negative, or zero.\n",
    "\n",
    "### Assignment 4: Nested if Statement\n",
    "\n",
    "Write a program that asks the user to input a number and prints whether the number is positive and even, positive and odd, or negative.\n",
    "\n",
    "## Lesson 2.2: Loops\n",
    "### Assignment 5: for Loop\n",
    "\n",
    "Write a program that prints all the numbers from 1 to 10 using a for loop.\n",
    "\n",
    "### Assignment 6: while Loop\n",
    "\n",
    "Write a program that prints all the numbers from 1 to 10 using a while loop.\n",
    "\n",
    "### Assignment 7: Nested Loops\n",
    "\n",
    "Write a program that prints a 5x5 grid of asterisks (*) using nested loops.\n",
    "\n",
    "### Assignment 8: break Statement\n",
    "\n",
    "Write a program that asks the user to input numbers until they input 0. The program should print the sum of all the input numbers.\n",
    "\n",
    "### Assignment 9: continue Statement\n",
    "\n",
    "Write a program that prints all the numbers from 1 to 10 except 5 using a for loop and continue statement.\n",
    "\n",
    "### Assignment 10: pass Statement\n",
    "\n",
    "Write a program that defines an empty function using the pass statement.\n",
    "\n",
    "### Assignment 11: Combining Loops and Conditionals\n",
    "\n",
    "Write a program that asks the user to input a number and prints all the even numbers from 1 to that number using a for loop.\n",
    "\n",
    "### Assignment 12: Factorial Calculation\n",
    "\n",
    "Write a program that calculates the factorial of a number input by the user using a while loop.\n",
    "\n",
    "### Assignment 13: Sum of Digits\n",
    "\n",
    "Write a program that calculates the sum of the digits of a number input by the user using a while loop.\n",
    "\n",
    "### Assignment 14: Prime Number Check\n",
    "\n",
    "Write a program that checks if a number input by the user is a prime number using a for loop.\n",
    "\n",
    "### Assignment 15: Fibonacci Sequence\n",
    "\n",
    "Write a program that prints the first n Fibonacci numbers, where n is input by the user."
   ]
  },
  {
   "cell_type": "code",
   "execution_count": null,
   "metadata": {},
   "outputs": [],
   "source": [
    "#Assignment 1 + 2: Simple if Statement + if and else\n",
    "#Write a program that asks the user to input a number and prints whether the number is positive or negative.\n",
    "\n",
    "num = int(input(\"Enter number: \"))\n",
    "\n",
    "if num > 0:\n",
    "    print(\"Number is positive\")\n",
    "else: \n",
    "    print(\"Number is negative\")\n",
    "    "
   ]
  },
  {
   "cell_type": "code",
   "execution_count": null,
   "id": "baf4c54d",
   "metadata": {},
   "outputs": [],
   "source": [
    "# Assignment 3: if-elif-else Statement\n",
    "# Write a program that asks the user to input a number and prints whether the number is positive, negative, or zero.\n",
    "\n",
    "num = int(input(\"Enter number: \"))\n",
    "if num == 0:\n",
    "    print(\"Its zero.\")\n",
    "elif num > 0:\n",
    "    print(\"its positive\")\n",
    "else: \n",
    "    print(\"Its negative\")"
   ]
  },
  {
   "cell_type": "code",
   "execution_count": null,
   "id": "a1343989",
   "metadata": {},
   "outputs": [],
   "source": [
    "# Assignment 4: Nested if Statement\n",
    "# Write a program that asks the user to input a number and prints whether the number is positive and even, positive and odd, or negative.\n",
    "\n",
    "num = int(input())\n",
    "\n",
    "if num == 0: \n",
    "    print(\"its zero and postive\")\n",
    "elif num > 0:\n",
    "    if num%2==0:\n",
    "        print(\"Its even and positive\")\n",
    "    else:\n",
    "        print(\"its odd and positive\")\n",
    "\n",
    "else:\n",
    "    if num%2==0:\n",
    "        print(\"its negative and even\")\n",
    "    else:\n",
    "        print(\"its negative and odd\")"
   ]
  },
  {
   "cell_type": "code",
   "execution_count": 1,
   "id": "509c4735",
   "metadata": {},
   "outputs": [
    {
     "name": "stdout",
     "output_type": "stream",
     "text": [
      "1\n",
      "2\n",
      "3\n",
      "4\n",
      "5\n",
      "6\n",
      "7\n",
      "8\n",
      "9\n",
      "10\n"
     ]
    }
   ],
   "source": [
    "# Assignment 5: for Loop\n",
    "#Write a program that prints all the numbers from 1 to 10 using a for loop.\n",
    "\n",
    "for i in range(1,11):\n",
    "    print(i)\n",
    "\n"
   ]
  },
  {
   "cell_type": "code",
   "execution_count": 3,
   "id": "faf09008",
   "metadata": {},
   "outputs": [
    {
     "name": "stdout",
     "output_type": "stream",
     "text": [
      "1\n",
      "2\n",
      "3\n",
      "4\n",
      "5\n",
      "6\n",
      "7\n",
      "8\n",
      "9\n",
      "10\n"
     ]
    }
   ],
   "source": [
    "#printing first 10 numbers using while loop\n",
    "count = 1\n",
    "\n",
    "while count < 11:\n",
    "    print(count)\n",
    "    count += 1"
   ]
  },
  {
   "cell_type": "code",
   "execution_count": 17,
   "id": "e24a7cf9",
   "metadata": {},
   "outputs": [
    {
     "name": "stdout",
     "output_type": "stream",
     "text": [
      "* * * * * \n",
      "* * * * * \n",
      "* * * * * \n",
      "* * * * * \n",
      "* * * * * \n"
     ]
    }
   ],
   "source": [
    "### Assignment 7: Nested Loops\n",
    "#Write a program that prints a 5x5 grid of asterisks (*) using nested loops.\n",
    "\n",
    "for i in range(5):\n",
    "    for j in range(5):\n",
    "        print(\"*\", end=\" \")\n",
    "    print()"
   ]
  },
  {
   "cell_type": "code",
   "execution_count": 9,
   "id": "2d4bb54f",
   "metadata": {},
   "outputs": [
    {
     "name": "stdout",
     "output_type": "stream",
     "text": [
      "Sum of all the numbers:  38\n"
     ]
    }
   ],
   "source": [
    "### Assignment 8: break Statement\n",
    "#Write a program that asks the user to input numbers until they input 0. The program should print the sum of all the input numbers.\n",
    "\n",
    "sum = 0\n",
    "while True:\n",
    "    num = int(input(\"Enter numbers to get sum of (press zero to terminate the program): \"))\n",
    "    if num == 0:\n",
    "        break\n",
    "    else: \n",
    "        sum = sum + num\n",
    "print(\"Sum of all the numbers: \", sum)\n",
    "\n"
   ]
  },
  {
   "cell_type": "code",
   "execution_count": 17,
   "id": "f0d887ab",
   "metadata": {},
   "outputs": [
    {
     "name": "stdout",
     "output_type": "stream",
     "text": [
      "1\n",
      "2\n",
      "3\n",
      "4\n",
      "6\n",
      "7\n",
      "8\n",
      "9\n",
      "10\n"
     ]
    }
   ],
   "source": [
    "### Assignment 9: continue Statement\n",
    "#Write a program that prints all the numbers from 1 to 10 except 5 using a for loop and continue statement.\n",
    "\n",
    "for i in range(1,11):\n",
    "    if i == 5:\n",
    "        continue\n",
    "    print(i) \n"
   ]
  },
  {
   "cell_type": "code",
   "execution_count": 20,
   "id": "3e708ce4",
   "metadata": {},
   "outputs": [],
   "source": [
    "### Assignment 10: pass Statement\n",
    "#Write a program that defines an empty function using the pass statement.\n",
    "\n",
    "def useless():\n",
    "    pass\n",
    "\n",
    "useless()"
   ]
  },
  {
   "cell_type": "code",
   "execution_count": 23,
   "id": "f22be6c5",
   "metadata": {},
   "outputs": [
    {
     "name": "stdout",
     "output_type": "stream",
     "text": [
      "2\n",
      "4\n",
      "6\n",
      "8\n",
      "10\n",
      "12\n",
      "14\n",
      "16\n",
      "18\n",
      "20\n"
     ]
    }
   ],
   "source": [
    "### Assignment 11: Combining Loops and Conditionals\n",
    "#Write a program that asks the user to input a number and prints all the even numbers from 1 to that number using a for loop.\n",
    "\n",
    "limit = int(input(\"Enter the number to be the limit of the loop: \"))\n",
    "\n",
    "for i in range(1,limit+1):\n",
    "    if i%2==0:\n",
    "        print(i)"
   ]
  },
  {
   "cell_type": "code",
   "execution_count": 26,
   "id": "f7a67c85",
   "metadata": {},
   "outputs": [
    {
     "name": "stdout",
     "output_type": "stream",
     "text": [
      "24\n"
     ]
    }
   ],
   "source": [
    "### Assignment 12: Factorial Calculation\n",
    "#Write a program that calculates the factorial of a number input by the user using a while loop.\n",
    "\n",
    "num = int(input(\"Enter the number to calculate the factorial of: \"))\n",
    "factorial = 1\n",
    "i = 2\n",
    "if num < 0:\n",
    "    print(\"invalid input\")\n",
    "elif num == 0 or num == 1:\n",
    "    print(\"The factorial is 1\")\n",
    "else:\n",
    "    while i <= num:\n",
    "        factorial *= i\n",
    "        i += 1\n",
    "    print(factorial)"
   ]
  },
  {
   "cell_type": "code",
   "execution_count": 43,
   "id": "ac41d513",
   "metadata": {},
   "outputs": [
    {
     "name": "stdout",
     "output_type": "stream",
     "text": [
      "15\n"
     ]
    }
   ],
   "source": [
    "### Assignment 13: Sum of Digits\n",
    "#Write a program that calculates the sum of the digits of a number input by the user using a while loop.\n",
    "\n",
    "num = int(input(\"Enter a number: \"))\n",
    "sum = 0\n",
    "while num > 0:\n",
    "    digit= num % 10\n",
    "    sum += digit\n",
    "    num = num // 10\n",
    "print(sum)\n"
   ]
  },
  {
   "cell_type": "code",
   "execution_count": 59,
   "id": "029088dd",
   "metadata": {},
   "outputs": [
    {
     "name": "stdout",
     "output_type": "stream",
     "text": [
      "7  is a prime\n"
     ]
    }
   ],
   "source": [
    "### Assignment 14: Prime Number Check\n",
    "#Write a program that checks if a number input by the user is a prime number using a for loop.\n",
    "\n",
    "num = int(input(\"Enter the number: \"))\n",
    "\n",
    "if num < 0:\n",
    "    print(\"Enter valid number!\")\n",
    "elif num == 0 or num == 1:\n",
    "    print(num, \" is not a prime number\")\n",
    "else: \n",
    "    for i in range(2,num):\n",
    "        if num % i == 0:\n",
    "            print(num, \" is not a prime\")\n",
    "            break\n",
    "    else: \n",
    "        print(num, \" is a prime\")     "
   ]
  },
  {
   "cell_type": "code",
   "execution_count": null,
   "id": "533035b5",
   "metadata": {},
   "outputs": [
    {
     "name": "stdout",
     "output_type": "stream",
     "text": [
      "0 1 1 2 3 5 8 13 "
     ]
    }
   ],
   "source": [
    "### Assignment 15: Fibonacci Sequence\n",
    "#Write a program that prints the first n Fibonacci numbers, where n is input by the user.\n",
    "\n",
    "\n",
    "# altho this code is slightly long, it is my own way to solve the problem, and its working! \n",
    "# for better and consise program, see the nect cell\n",
    "count= int(input(\"enter the count where to stop(min is 1): \"))\n",
    "\n",
    "prev = 0\n",
    "num = 1\n",
    "if count == 1:\n",
    "    print(\"0\")\n",
    "elif count == 2: \n",
    "    print(\"0 1\")\n",
    "elif count > 2:\n",
    "    print(\"0 1\", end = \" \")\n",
    "    for i in range(3,count+1):\n",
    "        f = prev + num\n",
    "        print(f, end = \" \")\n",
    "        prev = num\n",
    "        num = f\n",
    "elif count < 1:\n",
    "    print(\"enter valid count\")"
   ]
  },
  {
   "cell_type": "code",
   "execution_count": 82,
   "id": "53b0f44c",
   "metadata": {},
   "outputs": [
    {
     "name": "stdout",
     "output_type": "stream",
     "text": [
      "0 1 1 2 3 5 8 13 "
     ]
    }
   ],
   "source": [
    "# better way to solve assignment 15\n",
    "\n",
    "n = int(input(\"enter the count where to stop(min is 1): \"))\n",
    "\n",
    "prev = 0\n",
    "num = 1\n",
    "count = 0\n",
    "\n",
    "while count < n:\n",
    "    print(prev, end = \" \")\n",
    "    temp = prev\n",
    "    prev = num\n",
    "    num = num + temp\n",
    "    count += 1"
   ]
  }
 ],
 "metadata": {
  "kernelspec": {
   "display_name": "base",
   "language": "python",
   "name": "python3"
  },
  "language_info": {
   "codemirror_mode": {
    "name": "ipython",
    "version": 3
   },
   "file_extension": ".py",
   "mimetype": "text/x-python",
   "name": "python",
   "nbconvert_exporter": "python",
   "pygments_lexer": "ipython3",
   "version": "3.13.5"
  }
 },
 "nbformat": 4,
 "nbformat_minor": 5
}
