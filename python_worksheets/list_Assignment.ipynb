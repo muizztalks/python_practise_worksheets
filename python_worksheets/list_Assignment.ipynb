{
 "cells": [
  {
   "cell_type": "markdown",
   "id": "81c30331",
   "metadata": {},
   "source": [
    "# Module 3: Data Structures Assignments\n",
    "## Lesson 3.1: Lists\n"
   ]
  },
  {
   "cell_type": "code",
   "execution_count": 10,
   "id": "dbe8f697",
   "metadata": {},
   "outputs": [
    {
     "name": "stdout",
     "output_type": "stream",
     "text": [
      "[1, 2, 3, 4, 5, 6, 7, 8, 9, 10, 11, 12, 13, 14, 15, 16, 17, 18, 19, 20]\n"
     ]
    }
   ],
   "source": [
    "# Assignment 1: Creating and Accessing Lists\n",
    "# Create a list of the first 20 positive integers. Print the list.\n",
    "\n",
    "list1=list(range(1,21))\n",
    "print(list1)\n"
   ]
  },
  {
   "cell_type": "code",
   "execution_count": 13,
   "id": "ed00e1fc",
   "metadata": {},
   "outputs": [
    {
     "name": "stdout",
     "output_type": "stream",
     "text": [
      "1\n",
      "11\n",
      "20\n"
     ]
    }
   ],
   "source": [
    "# Assignment 2: Accessing List Elements\n",
    "# Print the first, middle, and last elements of the list created in Assignment 1.\n",
    "\n",
    "print(list1[0])\n",
    "print(list1[len(list1)//2])\n",
    "print(list1[-1])"
   ]
  },
  {
   "cell_type": "code",
   "execution_count": 24,
   "id": "b7c963f1",
   "metadata": {},
   "outputs": [
    {
     "name": "stdout",
     "output_type": "stream",
     "text": [
      "[1, 2, 3, 4, 5]\n",
      "[16, 17, 18, 19, 20]\n",
      "[6, 7, 8, 9, 10, 11, 12, 13, 14, 15, 16]\n"
     ]
    }
   ],
   "source": [
    "# Assignment 3: List Slicing\n",
    "# Print the first five elements, the last five elements, and the elements from index 5 to 15 of the list created in Assignment 1.\n",
    "\n",
    "print(list1[:5])\n",
    "print(list1[-5:])\n",
    "print(list1[5:16])"
   ]
  },
  {
   "cell_type": "code",
   "execution_count": 28,
   "id": "3eb921fd",
   "metadata": {},
   "outputs": [
    {
     "name": "stdout",
     "output_type": "stream",
     "text": [
      "[1, 4, 9, 16, 25, 36, 49, 64, 81, 100]\n"
     ]
    }
   ],
   "source": [
    "# Assignment 4: List Comprehensions\n",
    "# Create a new list containing the squares of the first 10 positive integers using a list comprehension. Print the new list.\n",
    "\n",
    "list=[x**2 for x in range(1,11)]\n",
    "print(list)"
   ]
  },
  {
   "cell_type": "code",
   "execution_count": 31,
   "id": "047e1618",
   "metadata": {},
   "outputs": [
    {
     "name": "stdout",
     "output_type": "stream",
     "text": [
      "[2, 4, 6, 8, 10, 12, 14, 16, 18, 20]\n"
     ]
    }
   ],
   "source": [
    "# Assignment 5: Filtering Lists\n",
    "# Create a new list containing only the even numbers from the list created in Assignment 1 using a list comprehension. Print the new list.\n",
    "\n",
    "list2=[i for i in list1 if i%2==0]\n",
    "print(list2)"
   ]
  },
  {
   "cell_type": "code",
   "execution_count": 40,
   "id": "2c728f8f",
   "metadata": {},
   "outputs": [
    {
     "name": "stdout",
     "output_type": "stream",
     "text": [
      "List in ascending order:  [4, 9, 19, 50, 52, 61, 83, 83, 86, 99]\n",
      "List in decending order:  [99, 86, 83, 83, 61, 52, 50, 19, 9, 4]\n",
      "After removing duplications:  {99, 4, 9, 50, 83, 52, 19, 86, 61}\n"
     ]
    }
   ],
   "source": [
    "# Assignment 6: List Methods\n",
    "# Create a list of random numbers and sort it in ascending and descending order. Remove the duplicates from the list and print the modified list.\n",
    "\n",
    "import random\n",
    "list3=[]\n",
    "\n",
    "for i in range(0,10):\n",
    "    list3.append(random.randint(1,100)) \n",
    "\n",
    "list3.sort()\n",
    "print(\"List in ascending order: \", list3)\n",
    "\n",
    "list3.reverse()\n",
    "print(\"List in decending order: \", list3)\n",
    "\n",
    "modified = set(list3)\n",
    "print(\"After removing duplications: \", modified)"
   ]
  },
  {
   "cell_type": "code",
   "execution_count": 51,
   "id": "07225b18",
   "metadata": {},
   "outputs": [
    {
     "name": "stdout",
     "output_type": "stream",
     "text": [
      "Matrix: \n",
      "(1, 2, 3)\n",
      "(4, 5, 6)\n",
      "(7, 8, 9)\n",
      "Element at the second row and third column:  6\n"
     ]
    }
   ],
   "source": [
    "# Assignment 7: Nested Lists\n",
    "# Create a nested list representing a 3x3 matrix and print the matrix. Access and print the element at the second row and third column.\n",
    "\n",
    "nested_list = [\n",
    "    (1,2,3),\n",
    "    (4,5,6),\n",
    "    (7,8,9)\n",
    "]\n",
    "print(\"Matrix: \")\n",
    "for row in nested_list:\n",
    "    print(row)\n",
    "\n",
    "print(\"Element at the second row and third column: \", nested_list[1][2])"
   ]
  },
  {
   "cell_type": "code",
   "execution_count": 71,
   "id": "9216c55d",
   "metadata": {},
   "outputs": [
    {
     "name": "stdout",
     "output_type": "stream",
     "text": [
      "[1, 2, 3, 4, 5, 6, 7, 8, 9, 10]\n",
      "[1, 2, 4, 5, 7, 8, 10]\n",
      "Modified list:  [1, 2, 4, 5, 7, 99, 10]\n"
     ]
    }
   ],
   "source": [
    "# Assignment 11: List Manipulation\n",
    "# Create a list of the first 10 positive integers. Remove the elements at indixes 2, 4, and 6, and insert the element '99' at index 5. Print the modified list.\n",
    "list4=[]\n",
    "for i in range(1,11):\n",
    "    list4.append(i)\n",
    "print(list4)\n",
    "\n",
    "del list4[2]\n",
    "del list4[4]\n",
    "del list4[6]\n",
    "print(list4)\n",
    "\n",
    "list4[5]=99\n",
    "print(\"Modified list: \", list4)"
   ]
  },
  {
   "cell_type": "code",
   "execution_count": 77,
   "id": "4482bbf3",
   "metadata": {},
   "outputs": [
    {
     "name": "stdout",
     "output_type": "stream",
     "text": [
      "Original List:  [1, 2, 3, 4, 5, 6, 7, 8, 9, 10]\n",
      "Reversed List:  [10, 9, 8, 7, 6, 5, 4, 3, 2, 1]\n"
     ]
    }
   ],
   "source": [
    "# Assignment 13: List Reversal\n",
    "# Write a function that takes a list and returns a new list with the elements in reverse order. Print the original and reversed lists.\n",
    "\n",
    "list5 = [1,2,3,4,5,6,7,8,9,10]\n",
    "print(\"Original List: \", list5)\n",
    "\n",
    "list5.reverse()\n",
    "print(\"Reversed List: \", list5)"
   ]
  }
 ],
 "metadata": {
  "kernelspec": {
   "display_name": "Python 3",
   "language": "python",
   "name": "python3"
  },
  "language_info": {
   "codemirror_mode": {
    "name": "ipython",
    "version": 3
   },
   "file_extension": ".py",
   "mimetype": "text/x-python",
   "name": "python",
   "nbconvert_exporter": "python",
   "pygments_lexer": "ipython3",
   "version": "3.10.18"
  }
 },
 "nbformat": 4,
 "nbformat_minor": 5
}
